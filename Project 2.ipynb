{
 "cells": [
  {
   "cell_type": "markdown",
   "id": "9073f6a0",
   "metadata": {},
   "source": [
    "# Project 2 -  Modelling with ordinary differential equations\n",
    "\n",
    "## By Mattis Sørensen, Tore Nygård and Mai-Helen Braathen\n",
    "\n",
    "### Abstract:\n",
    "\n",
    "### Introduction:\n",
    "\n"
   ]
  },
  {
   "cell_type": "markdown",
   "id": "caac81d6",
   "metadata": {},
   "source": [
    "### Part 1\n",
    "\n",
    "#### Execise 1.1 :"
   ]
  },
  {
   "cell_type": "markdown",
   "id": "33bc7d38",
   "metadata": {},
   "source": [
    "#### The purpose of trying to model the decline in population as −aN is because a is a positive constant related to the decline in population. The model assumes that as the population size increases, the growth rate decreases, and as the population size decreases, the growth rate increases. The purpose of modeling the decline in population as -a is to create a more realistic representation of population dynamics. The incorporation of the decline in population as -a in the model allows it to capture the idea that population growth is not unlimited but depends on the population's size relative to its carrying capacity."
   ]
  },
  {
   "cell_type": "markdown",
   "id": "784e436f",
   "metadata": {},
   "source": [
    "#### Exercise 1.2 :"
   ]
  },
  {
   "cell_type": "code",
   "execution_count": 1,
   "id": "e29c0983",
   "metadata": {},
   "outputs": [
    {
     "data": {
      "image/png": "[encoded data removed]",
      "text/plain": [
       "<Figure size 640x480 with 1 Axes>"
      ]
     },
     "metadata": {},
     "output_type": "display_data"
    }
   ],
   "source": [
    "#Exact solution:\n",
    "import matplotlib.pyplot as plt\n",
    "import numpy as np\n",
    "import math\n",
    "\n",
    "timestep = 1 #Use month as timeunit\n",
    "\n",
    "starttime = 0\n",
    "endtime = 12*15 #Number of months that shall be simulated\n",
    "\n",
    "k = 1000 #kg\n",
    "r = 0.6/12 #Per month\n",
    "\n",
    "N0 = 2000 #inital biomass in kg\n",
    "\n",
    "T1 = []\n",
    "YExact = []\n",
    "\n",
    "t =starttime\n",
    "y = N0\n",
    "\n",
    "YExact.append(y)\n",
    "T1.append(t)\n",
    "\n",
    "while (t<endtime):\n",
    "    t = t+timestep\n",
    "    \n",
    "    y=N0*k/(N0+(k-N0)*math.exp(-r*t)) #exact solution\n",
    "    T1.append(t)\n",
    "    YExact.append(y)\n",
    "    \n",
    "plt.plot(T1,YExact)\n",
    "plt.title('Fishpopulation')\n",
    "plt.xlabel('Time (months)')\n",
    "plt.ylabel('Biomass (kg)')\n",
    "plt.ylim(ymin=0,ymax =2000)\n",
    "plt.xlim(xmin=0)\n",
    "plt.grid(True)\n",
    "plt.legend(['Exact'])\n",
    "plt.show()\n"
   ]
  },
  {
   "cell_type": "code",
   "execution_count": 2,
   "id": "f8d455b4",
   "metadata": {
    "scrolled": true
   },
   "outputs": [
    {
     "ename": "IndentationError",
     "evalue": "expected an indented block (2591021245.py, line 24)",
     "output_type": "error",
     "traceback": [
      "\u001b[1;36m  File \u001b[1;32m\"C:\\Users\\Braat\\AppData\\Local\\Temp\\ipykernel_10572\\2591021245.py\"\u001b[1;36m, line \u001b[1;32m24\u001b[0m\n\u001b[1;33m    F = np.zeros(2)\u001b[0m\n\u001b[1;37m    ^\u001b[0m\n\u001b[1;31mIndentationError\u001b[0m\u001b[1;31m:\u001b[0m expected an indented block\n"
     ]
    }
   ],
   "source": [
    "# Eulers method: - EKSEMPEL FRA BOKA, MÅ GJØRE OM MED RIKTIGE VERDIER!!! \n",
    "\n",
    "def main():\n",
    "    x=0.0  # Start of integration\n",
    "    xStop=2.0  # End of integration\n",
    "    y=np.array([0.0,1.0])  #Initial conditions\n",
    "    h=0.05  # Step size\n",
    "    X,Y=integrate(F,x,y,xStop,h)\n",
    "  #  print(Y)\n",
    "    yExact = 100.0*X-5.0*X**2+990.0*(np.exp(-0.1*X)-1.0)\n",
    "    plt.plot(X,Y[:,0],'o',X,yExact,'-')\n",
    "    plt.xlabel('x')\n",
    "    plt.ylabel('y')\n",
    "    plt.grid(True)\n",
    "    plt.legend(('Numerical','Exact'))\n",
    "    plt.show()\n",
    "    \n",
    "    \n",
    "def integrate(F,x,y,xStop,h):\n",
    "    \n",
    "    # a general function that applies Eulers method. It finds\n",
    "    # the solution from start to stop and returns the results\n",
    "    # in arrays.\n",
    "    \n",
    "    X=[]\n",
    "    Y=[]\n",
    "    X.append(x)\n",
    "    Y.append(y)\n",
    "    \n",
    "    while x<xStop:\n",
    "        h=min(h,xStop-x)\n",
    "        y=y+h*F(x,y)\n",
    "        x=x+h\n",
    "        X.append(x)\n",
    "        Y.append(y)\n",
    "    return np.array(X),np.array(Y)\n",
    "\n",
    "def F(x,y):\n",
    "    # User specified function that depends on the problem\n",
    "    F=np.zeros(2)\n",
    "    F[0]=y[1]\n",
    "    F[1]=-0.1*y[1]-x\n",
    "    return F\n",
    "    \n",
    "\n",
    "main()    \n",
    "\n",
    "\n",
    "\n"
   ]
  },
  {
   "cell_type": "code",
   "execution_count": null,
   "id": "818aebbd",
   "metadata": {},
   "outputs": [],
   "source": [
    "# Fourth order runge kutta method: - EKSEMPEL FRA BOKA MÅ GJØRE OM MED RIKTIGE VERDIER!!!\n",
    "\n",
    "def main():\n",
    "    x=0.0  # Start of integration\n",
    "    xStop=2.0  # End of integration\n",
    "    y=np.array([0.0,1.0])  #Initial conditions\n",
    "    h1=0.05  # Step size\n",
    "    h2=0.2\n",
    "    X1,Y1=integrate_euler(F,x,y,xStop,h1)\n",
    "    X2,Y2=integrate_rungk4(F,x,y,xStop,h2)\n",
    "    YEx = 100*X2-5*X2*X2+990*(np.exp(-0.1*X2)-1)\n",
    "    \n",
    "    plt.plot(X1,Y1[:,0],X2,Y2[:,0],'o',X2,YEx)\n",
    "    plt.legend(['Euler','RungeKutta 4','Exact'])\n",
    "    plt.grid(True)\n",
    "    plt.xlabel('x-akse')\n",
    "    plt.ylabel('y-akse')\n",
    "    plt.show()\n",
    "    \n",
    "    \n",
    "def integrate_euler(F,x,y,xStop,h):\n",
    "    \n",
    "    # a general function that applies Eulers method\n",
    "    \n",
    "    X=[]\n",
    "    Y=[]\n",
    "    X.append(x)\n",
    "    Y.append(y)\n",
    "    \n",
    "    while x<xStop:\n",
    "        h=min(h,xStop-x)\n",
    "        y=y+h*F(x,y)\n",
    "        x=x+h\n",
    "        X.append(x)\n",
    "        Y.append(y)\n",
    "    return np.array(X),np.array(Y)\n",
    "\n",
    "def integrate_rungk4(F,x,y,xStop,h):\n",
    "    \n",
    "    # a general function that applies rungekutta\n",
    "    \n",
    "    X=[]\n",
    "    Y=[]\n",
    "    X.append(x)\n",
    "    Y.append(y)\n",
    "    \n",
    "    while x<xStop:\n",
    "        h=min(h,xStop-x)\n",
    "        y=y + run_kut4(F,x,y,h)\n",
    "        x=x+h\n",
    "        X.append(x)\n",
    "        Y.append(y)\n",
    "    return np.array(X),np.array(Y)\n",
    "\n",
    "\n",
    "def run_kut4(F,x,y,h):\n",
    "  #  4th order Runge Kutta Method \n",
    "    K0=h*F(x,y)\n",
    "    K1=h*F(x+0.5*h,y+0.5*K0)\n",
    "    K2=h*F(x+0.5*h,y+0.5*K1)\n",
    "    K3=h*F(x+h,y+K2)\n",
    "    \n",
    "    return (K0+2*K1+2*K2+K3)/6.0\n",
    "\n",
    "\n",
    "\n",
    "def F(x,y):\n",
    "    # User specified function that depends on the problem\n",
    "    F=np.zeros(2)\n",
    "    F[0]=y[1]\n",
    "    F[1]=-0.1*y[1]-x\n",
    "    return F\n",
    "    \n",
    "\n",
    "main()    "
   ]
  },
  {
   "cell_type": "markdown",
   "id": "aa717ae9",
   "metadata": {},
   "source": [
    "### Part 2 – Modelling and Control of the Water Level in a Tank"
   ]
  },
  {
   "cell_type": "code",
   "execution_count": null,
   "id": "b3eb8b73",
   "metadata": {},
   "outputs": [],
   "source": []
  }
 ],
 "metadata": {
  "kernelspec": {
   "display_name": "Python 3 (ipykernel)",
   "language": "python",
   "name": "python3"
  },
  "language_info": {
   "codemirror_mode": {
    "name": "ipython",
    "version": 3
   },
   "file_extension": ".py",
   "mimetype": "text/x-python",
   "name": "python",
   "nbconvert_exporter": "python",
   "pygments_lexer": "ipython3",
   "version": "3.9.13"
  }
 },
 "nbformat": 4,
 "nbformat_minor": 5
}
