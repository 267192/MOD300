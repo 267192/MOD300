{
 "cells": [
  {
   "cell_type": "markdown",
   "id": "f886444b",
   "metadata": {},
   "source": [
    "# Project 1\n",
    "\n",
    "## By Mai-Helen, Mattis and Ole\n",
    "\n",
    "### Abstract:\n",
    "\n",
    "\n",
    "\n",
    "## Excercise 1: Finite-precision arithmetic\n",
    "\n",
    "### Part 1: \n"
   ]
  },
  {
   "cell_type": "markdown",
   "id": "4714f693",
   "metadata": {},
   "source": []
  },
  {
   "cell_type": "code",
   "execution_count": 3,
   "id": "ff65925d",
   "metadata": {},
   "outputs": [
    {
     "data": {
      "text/plain": [
       "sys.float_info(max=1.7976931348623157e+308, max_exp=1024, max_10_exp=308, min=2.2250738585072014e-308, min_exp=-1021, min_10_exp=-307, dig=15, mant_dig=53, epsilon=2.220446049250313e-16, radix=2, rounds=1)"
      ]
     },
     "execution_count": 3,
     "metadata": {},
     "output_type": "execute_result"
    }
   ],
   "source": [
    "import sys\n",
    "sys.float_info\n"
   ]
  },
  {
   "cell_type": "markdown",
   "id": "3623bbd7",
   "metadata": {},
   "source": [
    "Here max represents the biggest possible number we can display on a 64-bit system.\n",
    "10^308\n",
    "\n",
    "- Max represents the biggest float number we can display \n",
    "- Max_exp is the biggest exponential we can have in the 1.Fx2^m format, where m is the exponent.\n",
    "- max_10_exp is the biggest output number we can get using the numbering convention of 1.F*2^m \n",
    "- Min represents the smallest float number we can display\n",
    "- Min_exp is the smallest exponential we can have in the 1.Fx2^m format, where m is the exponent.\n",
    "- min_10_exp is the smallest output number we can get using the numbering convention of 1.F*2^m \n",
    "- Epsilon represents the machine precision, the smallest number we can subtract from 1, and get something other than 1 as a result.\n",
    "- dig is the maximum amount of integers or decimals we have available to represent the number.\n",
    "- mant_dig is the maximum integer of the mantissa, the mantissa being the decimals after the .\n",
    "- Radix is the number of the potential digits in the binary system, used in this convention, in other words, 0 and 1\n",
    "- The rounds value indicates that the system uses the \"round to nearest, ties to even\" rounding mode for floating-point arithmetic\n",
    "\n",
    "\n"
   ]
  },
  {
   "cell_type": "markdown",
   "id": "425aa865",
   "metadata": {},
   "source": [
    "### Part 2\n",
    "\n",
    "In the 1.F*2^m numbering convention, we use 1 bit for the first integer, which leaves us 52 bits for the remaining decimals, and 11 bits for the exponent m.\n",
    "\n",
    "This gives us a potential max value of 1.111111...(52 ones) * 2^11\n",
    "\n",
    "Here is 2^11 equals 2048, but since we use 1 bit for infinity and 1 bit for 0, we are left with 2046 as the max exponent value. Since we want an equal amount of values on the negative side, we subtract half.\n",
    "This leaves us with a max exponent of 1023 and a minimum exponent of -1022. \n",
    "\n",
    "To calculate the max potential value we use a geometric function, (2-2^-52)*2^1023\n",
    "To calculate the min potential value we use the similar geometric function (2-2^-52)*2^-1022\n",
    "To calculate the epsilon we take the base wich is 2 and -52 is the exponent associated with the smallest mantissa bit in the 64-bit double-precision format."
   ]
  },
  {
   "cell_type": "markdown",
   "id": "e7942dc6",
   "metadata": {},
   "source": [
    "### Part 3\n",
    "In the IEEE 754 binary64 (double-precision) format commonly used for 64-bit systems like modern CPUs, numbers are represented as a sign bit, exponent bits, and a fraction (or mantissa) bits. However, due to the limitations of a finite number of bits, not all decimal numbers can be exactly represented in binary floating-point format.\n",
    "\n",
    "When you write 0.1 or 0.2 in decimal notation, these numbers cannot be exactly represented in binary with a finite number of digits. They become repeating fractions in binary, just as 1/3 becomes a repeating fraction (0.333...) in decimal notation. This leads to a tiny amount of rounding error in each of these operations.\n",
    "\n",
    "Therefor when we calculate 0.1+0.2 we will get another result than 0.3 because of the accumulated rounding errors in the rounding operations preceeding the wanted calculation."
   ]
  },
  {
   "cell_type": "markdown",
   "id": "1d0312c9",
   "metadata": {},
   "source": [
    "### part 4\n",
    "\n",
    "\n",
    "Because floating point values contain inaccuracies due to rounding errors, we should not use the equal or not equal operators in python. This means that we should not use these operators in combination with float numbers due to precission loss.\n",
    "\n",
    "We can use the math.isclose() function, this function checks if the first argument is acceptably close to the second argument.\n",
    "\n"
   ]
  },
  {
   "cell_type": "markdown",
   "id": "2e046f96",
   "metadata": {},
   "source": [
    "## Excercise 2\n",
    "\n",
    "### Part 1\n"
   ]
  },
  {
   "cell_type": "code",
   "execution_count": 44,
   "id": "c9ede86f",
   "metadata": {},
   "outputs": [
    {
     "ename": "TypeError",
     "evalue": "bad operand type for unary -: 'list'",
     "output_type": "error",
     "traceback": [
      "\u001b[0;31m---------------------------------------------------------------------------\u001b[0m",
      "\u001b[0;31mTypeError\u001b[0m                                 Traceback (most recent call last)",
      "Cell \u001b[0;32mIn[44], line 6\u001b[0m\n\u001b[1;32m      4\u001b[0m x \u001b[38;5;241m=\u001b[39m [\u001b[38;5;241m1\u001b[39m,\u001b[38;5;241m2\u001b[39m,\u001b[38;5;241m3\u001b[39m,\u001b[38;5;241m4\u001b[39m,\u001b[38;5;241m5\u001b[39m,\u001b[38;5;241m6\u001b[39m,\u001b[38;5;241m7\u001b[39m,\u001b[38;5;241m8\u001b[39m,\u001b[38;5;241m9\u001b[39m,\u001b[38;5;241m10\u001b[39m]\n\u001b[1;32m      5\u001b[0m np\u001b[38;5;241m.\u001b[39mexp(x)\n\u001b[0;32m----> 6\u001b[0m np\u001b[38;5;241m.\u001b[39mexp(\u001b[38;5;241m-\u001b[39mx)\n",
      "\u001b[0;31mTypeError\u001b[0m: bad operand type for unary -: 'list'"
     ]
    }
   ],
   "source": [
    "import numpy as np\n",
    "\n",
    "\n",
    "x = [1,2,3,4,5,6,7,8,9,10]\n",
    "np.exp(x)\n",
    "np.exp(-x)\n",
    "\n",
    "\n",
    "    "
   ]
  },
  {
   "cell_type": "markdown",
   "id": "c4625326",
   "metadata": {},
   "source": [
    "Here we can see that we get an error when trying to run np.exp on a \"negative\" list"
   ]
  },
  {
   "cell_type": "code",
   "execution_count": 24,
   "id": "daaa6ab4",
   "metadata": {},
   "outputs": [
    {
     "name": "stdout",
     "output_type": "stream",
     "text": [
      "[0.         0.11111111 0.22222222 0.33333333 0.44444444 0.55555556\n",
      " 0.66666667 0.77777778 0.88888889 1.        ]\n"
     ]
    }
   ],
   "source": [
    "import numpy as np\n",
    "\n",
    "\n",
    "x = [1,2,3,4,5,6,7,8,9,10]\n",
    "y =[]\n",
    "z = []\n",
    "for i in range(len(x)):\n",
    "    y.append(np.exp(i))\n",
    "    z.append(np.exp(-i))\n",
    "    \n",
    " \n",
    "print(y)\n",
    "print(z)"
   ]
  },
  {
   "cell_type": "markdown",
   "id": "15a5d27f",
   "metadata": {},
   "source": [
    "To evaluate a function of all elements of an ordinary python list, like in the code above, "
   ]
  },
  {
   "cell_type": "code",
   "execution_count": 45,
   "id": "0df8d47f",
   "metadata": {},
   "outputs": [
    {
     "data": {
      "text/plain": [
       "array([0., 0., 0., 0., 0., 0., 0., 0., 0., 0., 0., 0., 0., 0., 0., 0., 0.,\n",
       "       0., 0., 0.])"
      ]
     },
     "execution_count": 45,
     "metadata": {},
     "output_type": "execute_result"
    }
   ],
   "source": [
    "np.zeros(20)\n",
    "    "
   ]
  },
  {
   "cell_type": "markdown",
   "id": "4030de67",
   "metadata": {},
   "source": [
    "Creates a list of 20 elements, and initalizes each element as a 0."
   ]
  },
  {
   "cell_type": "code",
   "execution_count": 46,
   "id": "dbc43780",
   "metadata": {},
   "outputs": [
    {
     "data": {
      "text/plain": [
       "array([1., 1., 1., 1., 1., 1., 1., 1., 1., 1., 1., 1., 1., 1., 1., 1., 1.,\n",
       "       1., 1., 1.])"
      ]
     },
     "execution_count": 46,
     "metadata": {},
     "output_type": "execute_result"
    }
   ],
   "source": [
    "np.ones(20)"
   ]
  },
  {
   "cell_type": "markdown",
   "id": "090a3559",
   "metadata": {},
   "source": [
    "Creates an array of 20 elements, and initalizes each element as a 1.\n"
   ]
  },
  {
   "cell_type": "code",
   "execution_count": 48,
   "id": "fbf94dae",
   "metadata": {},
   "outputs": [
    {
     "data": {
      "text/plain": [
       "array([ 0.,  1.,  2.,  3.,  4.,  5.,  6.,  7.,  8.,  9., 10.])"
      ]
     },
     "execution_count": 48,
     "metadata": {},
     "output_type": "execute_result"
    }
   ],
   "source": [
    "\n",
    "   np.linspace(0, 10, 11)"
   ]
  },
  {
   "cell_type": "markdown",
   "id": "a75b618a",
   "metadata": {},
   "source": [
    "creates an array of 11 elements, from 0 to 10, with even spacing between each element"
   ]
  },
  {
   "cell_type": "code",
   "execution_count": 49,
   "id": "c827e397",
   "metadata": {},
   "outputs": [
    {
     "data": {
      "text/plain": [
       "array([0.        , 0.90909091, 1.81818182, 2.72727273, 3.63636364,\n",
       "       4.54545455, 5.45454545, 6.36363636, 7.27272727, 8.18181818,\n",
       "       9.09090909])"
      ]
     },
     "execution_count": 49,
     "metadata": {},
     "output_type": "execute_result"
    }
   ],
   "source": [
    "\n",
    "np.linspace(0, 10, 11, endpoint=False)"
   ]
  },
  {
   "cell_type": "markdown",
   "id": "a38be603",
   "metadata": {},
   "source": [
    "excludes the endpoint in the array, in this case the number 10"
   ]
  },
  {
   "cell_type": "code",
   "execution_count": 58,
   "id": "50d436ed",
   "metadata": {},
   "outputs": [
    {
     "data": {
      "text/plain": [
       "array([ 2,  4,  6,  8, 10])"
      ]
     },
     "execution_count": 58,
     "metadata": {},
     "output_type": "execute_result"
    }
   ],
   "source": [
    "vector = np.arange(5) + 1\n",
    "\n",
    "2*vector\n"
   ]
  },
  {
   "cell_type": "markdown",
   "id": "ac9e6847",
   "metadata": {},
   "source": [
    "first line creates an array of 5 elements from 0 to 4, then adds 1 to each element, giving us a list from 1-5.\n",
    "second line doubles the value of each element in the list."
   ]
  },
  {
   "cell_type": "markdown",
   "id": "d5392a7e",
   "metadata": {},
   "source": [
    "In ordinary python we can use loops to append initial values to the list, or perform mathematical operations on each element in a list, examples to follow below:"
   ]
  },
  {
   "cell_type": "code",
   "execution_count": 66,
   "id": "819b1b4b",
   "metadata": {},
   "outputs": [
    {
     "name": "stdout",
     "output_type": "stream",
     "text": [
      "[0, 0, 0, 0, 0, 0, 0, 0, 0, 0]\n",
      "[1, 1, 1, 1, 1, 1, 1, 1, 1, 1]\n",
      "[3, 3, 3, 3, 3, 3, 3, 3, 3, 3]\n"
     ]
    }
   ],
   "source": [
    "x = []\n",
    "for i in range(10):\n",
    "    x.append(0)\n",
    "    \n",
    "print(x)\n",
    "for i in range(len(x)):\n",
    "    x[i] += 1\n",
    "print(x)\n",
    "for i in range(len(x)):\n",
    "    x[i] = x[i]*3\n",
    "print(x)"
   ]
  },
  {
   "cell_type": "markdown",
   "id": "e2b9aa6c",
   "metadata": {},
   "source": [
    "### Part 3"
   ]
  },
  {
   "cell_type": "code",
   "execution_count": 83,
   "id": "78149fff",
   "metadata": {},
   "outputs": [
    {
     "name": "stdout",
     "output_type": "stream",
     "text": [
      "There are 7 non-zero numbers in the array.\n",
      "[False False False False False  True False False]\n",
      "[False False False False False  True False False]\n",
      "[False False False False False  True False False]\n"
     ]
    }
   ],
   "source": [
    "array_of_numbers = np.array([4, 8, 15, 16, 23, 42,0,5])\n",
    "nnz = np.count_nonzero(array_of_numbers)\n",
    "print(f\"There are {nnz} non-zero numbers in the array.\")\n",
    "is_even = (array_of_numbers % 2 == 0)\n",
    "is_greater_than_17 = (array_of_numbers > 17)\n",
    "is_even_and_greater_than_17 = is_even & is_greater_than_17\n",
    "\n",
    "is_even_and_greater_than_17 = np.logical_and(is_even, is_greater_than_17)\n",
    "print(is_even_and_greater_than_17)\n",
    "print(np.logical_and(array_of_numbers % 2 == 0, array_of_numbers > 17))\n",
    "print((array_of_numbers % 2 == 0) & (array_of_numbers > 17))"
   ]
  },
  {
   "cell_type": "markdown",
   "id": "839de187",
   "metadata": {},
   "source": [
    "In the first line of code, \"and\" is not a valid operator for truthy/falsy statements\n",
    "In the second line of code, python struggles to distinguish between the %, == and & operators, which we can fix with brackets, or alternatively use the np.logical_and function\n"
   ]
  },
  {
   "cell_type": "code",
   "execution_count": 92,
   "id": "e0bcf077",
   "metadata": {},
   "outputs": [
    {
     "data": {
      "text/plain": [
       "array([4, 5])"
      ]
     },
     "execution_count": 92,
     "metadata": {},
     "output_type": "execute_result"
    }
   ],
   "source": [
    "\n",
    "np.where(array_of_numbers > 17)[0]"
   ]
  },
  {
   "cell_type": "markdown",
   "id": "b795474a",
   "metadata": {},
   "source": [
    "Returns the indexes of the elements where the condition is true"
   ]
  },
  {
   "cell_type": "code",
   "execution_count": 87,
   "id": "17656bf6",
   "metadata": {},
   "outputs": [
    {
     "data": {
      "text/plain": [
       "array([0, 0, 0, 0, 1, 1, 0, 0])"
      ]
     },
     "execution_count": 87,
     "metadata": {},
     "output_type": "execute_result"
    }
   ],
   "source": [
    "\n",
    "np.where(array_of_numbers > 17, 1, 0)"
   ]
  },
  {
   "cell_type": "markdown",
   "id": "b9046fd4",
   "metadata": {},
   "source": [
    "Sets elements where the statement is true for the given condition to 1, and 0 where the condition is false"
   ]
  },
  {
   "cell_type": "markdown",
   "id": "f588f868",
   "metadata": {},
   "source": [
    "# Excercise 3"
   ]
  },
  {
   "cell_type": "markdown",
   "id": "1559b376",
   "metadata": {},
   "source": [
    "### Part 1 "
   ]
  },
  {
   "cell_type": "code",
   "execution_count": 2,
   "id": "a93e2596",
   "metadata": {},
   "outputs": [
    {
     "name": "stdout",
     "output_type": "stream",
     "text": [
      "[0.0, -0.49225065733419177, 0.6119655024957616, -0.4017036812203863, 0.1504357526127734, -0.02153703950523264, -0.00832856080998382, 0.005762841248035075, -0.001651402921651435, 0.0002713629767146959]\n"
     ]
    },
    {
     "data": {
      "image/png": "[encoded data removed]",
      "text/plain": [
       "<Figure size 640x480 with 1 Axes>"
      ]
     },
     "metadata": {},
     "output_type": "display_data"
    }
   ],
   "source": [
    "import matplotlib.pyplot as plt\n",
    "import numpy as np\n",
    "\n",
    "def f(x, a=0.1, b=10):\n",
    "    return np.sin(b*x)*np.exp(-a*x*x)\n",
    "\n",
    "interval = []\n",
    "for i in range(10):\n",
    "    interval.append(f(i))\n",
    "\n",
    "print(interval)\n",
    "plt.plot(interval)\n",
    "plt.show()\n",
    "\n",
    "\n",
    "\n",
    "\n"
   ]
  },
  {
   "cell_type": "code",
   "execution_count": 3,
   "id": "8ec51a53",
   "metadata": {},
   "outputs": [
    {
     "data": {
      "image/png": "[encoded data removed]",
      "text/plain": [
       "<Figure size 640x480 with 1 Axes>"
      ]
     },
     "metadata": {},
     "output_type": "display_data"
    }
   ],
   "source": [
    "def f(x, a=0.1, b=10):\n",
    "    return np.sin(b*x)*np.exp(-a*x*x)\n",
    "x = np.linspace(-10,10, 200)\n",
    "\n",
    "plt.xlabel(\"x\")\n",
    "plt.ylabel(\"f(x)\")\n",
    "plt.plot(x, f(x))\n",
    "plt.grid()\n",
    "plt.show()"
   ]
  },
  {
   "cell_type": "markdown",
   "id": "511c2a3e",
   "metadata": {},
   "source": [
    "## Part 2 "
   ]
  },
  {
   "cell_type": "code",
   "execution_count": 4,
   "id": "75f5bd9c",
   "metadata": {},
   "outputs": [
    {
     "name": "stdout",
     "output_type": "stream",
     "text": [
      "-7.493783027703379\n"
     ]
    }
   ],
   "source": [
    "# import numpy as np\n",
    "# def df(f,x,h,*args, *kwargs):\n",
    "#     return (f(x+h,*args)-f(x,*args))/h\n",
    "# x=1.2\n",
    "# print('numerical', df(np.sin,x,1e-8))\n",
    "# print('analytical', np.cos(x))\n",
    "# def f(x,a):\n",
    "#     return np.sin(a*x)\n",
    "\n",
    "# print('numerical:',df(f,x,1e-8,a=10))\n",
    "# # print('analytical:', a*np.cos(a*x))\n",
    "\n",
    "\n",
    "def Derivatedf(x, a, b, *args ) :\n",
    "    return b*np.cos(b*x)*np.exp(-a*x**2)-2*a*x*np.sin(b*x)*np.exp(-a*x**2)\n",
    "\n",
    "print(Derivatedf(1,0.1,10))\n",
    "    \n",
    "    "
   ]
  },
  {
   "cell_type": "markdown",
   "id": "0aaf0e14",
   "metadata": {},
   "source": [
    "<font color=\"red\">I f´(x=1) ser vi at stingingstallet stemmer overens med grafen over.</font>"
   ]
  },
  {
   "cell_type": "markdown",
   "id": "29d6be5a",
   "metadata": {},
   "source": []
  },
  {
   "cell_type": "code",
   "execution_count": 5,
   "id": "642295f0",
   "metadata": {},
   "outputs": [
    {
     "name": "stdout",
     "output_type": "stream",
     "text": [
      "numerical -0.801143607009891\n",
      "analytical -0.8011436155469337\n"
     ]
    }
   ],
   "source": [
    "import numpy as np\n",
    "def ForwardDiff(f,x,h,*args):\n",
    "    return (f(x+h,*args)-f(x,*args))/h\n",
    "x=2.5\n",
    "print('numerical', ForwardDiff(np.sin,x,1e-8))\n",
    "print('analytical', np.cos(x))\n",
    "\n"
   ]
  },
  {
   "cell_type": "markdown",
   "id": "cec71404",
   "metadata": {},
   "source": [
    "<font color=\"red\">Spør om dette (over), og hvorfor vi ikke bruker epsilon leddet (machine precision)</font>"
   ]
  },
  {
   "cell_type": "code",
   "execution_count": 6,
   "id": "4d3f1c9e",
   "metadata": {},
   "outputs": [
    {
     "name": "stdout",
     "output_type": "stream",
     "text": [
      "numerical -7.220096595246589\n"
     ]
    }
   ],
   "source": [
    "def f(x, a=0.1, b=10):\n",
    "    return np.sin(b*x)*np.exp(-a*x*x)\n",
    "\n",
    "\n",
    "def ForwardDiff(f,x,h,*args): #Forward difference\n",
    "    return (f(x+h,*args)-f(x,*args))/h\n",
    "x=1\n",
    "print('numerical', ForwardDiff(f,x,1e-2))\n"
   ]
  },
  {
   "cell_type": "markdown",
   "id": "2bd30920",
   "metadata": {},
   "source": [
    "As we can see, the result matches what we got in part 2: -7.220096595246589\n",
    "\n",
    "## Part 4 "
   ]
  },
  {
   "cell_type": "markdown",
   "id": "686568f9",
   "metadata": {},
   "source": [
    "### Central difference"
   ]
  },
  {
   "cell_type": "code",
   "execution_count": 7,
   "id": "091e9ec5",
   "metadata": {},
   "outputs": [],
   "source": [
    "\n",
    "def CentralDiff(f,x,h,*args):\n",
    "    return (f(x+h,*args)-f(x-h,*args))/(2*h)\n"
   ]
  },
  {
   "cell_type": "markdown",
   "id": "3ec348b9",
   "metadata": {},
   "source": [
    "## Part 5 "
   ]
  },
  {
   "cell_type": "code",
   "execution_count": 20,
   "id": "e9a11bbb",
   "metadata": {},
   "outputs": [
    {
     "data": {
      "image/png": "[encoded data removed]",
      "text/plain": [
       "<Figure size 1000x600 with 1 Axes>"
      ]
     },
     "metadata": {},
     "output_type": "display_data"
    }
   ],
   "source": [
    "import numpy as np\n",
    "import matplotlib.pyplot as plt\n",
    "\n",
    "def f(x, a=0.1, b=10):\n",
    "    return np.sin(b*x) * np.exp(-a*x*x)\n",
    "\n",
    "def Derivatedf(x, a, b, *args):\n",
    "    return b * np.cos(b * x) * np.exp(-a * x**2) - 2 * a * x * np.sin(b * x) * np.exp(-a * x**2)\n",
    "\n",
    "def ForwardDiff(f, x, h, *args):\n",
    "    return (f(x + h, *args) - f(x, *args)) / h\n",
    "\n",
    "def CentralDiff(f, x, h, *args):\n",
    "    return (f(x + h, *args) - f(x - h, *args)) / (2 * h)\n",
    "\n",
    "# Point of interest\n",
    "x_value = 1.0\n",
    "\n",
    "# Range of step sizes (logarithmically spaced)\n",
    "h_values = np.logspace(-16, 0, 100)\n",
    "\n",
    "# Calculate the exact derivative at x = 1\n",
    "exact_derivative = Derivatedf(x_value, 0.1, 10)\n",
    "\n",
    "# Initialize arrays to store errors for both methods\n",
    "forward_difference_errors = []\n",
    "central_difference_errors = []\n",
    "\n",
    "# Calculate errors for each step size\n",
    "for h in h_values:\n",
    "    forward_diff = ForwardDiff(f, x_value, h, 0.1, 10)\n",
    "    central_diff = CentralDiff(f, x_value, h, 0.1, 10)\n",
    "    \n",
    "    # Calculate absolute errors\n",
    "    forward_diff_error = np.abs(forward_diff - exact_derivative)\n",
    "    central_diff_error = np.abs(central_diff - exact_derivative)\n",
    "    \n",
    "    forward_difference_errors.append(forward_diff_error)\n",
    "    central_difference_errors.append(central_diff_error)\n",
    "\n",
    "# Create a scatter plot of errors vs. step size\n",
    "plt.figure(figsize=(10, 6))\n",
    "plt.scatter(h_values, forward_difference_errors, label='Forward Difference', marker='o', s=10)\n",
    "plt.scatter(h_values, central_difference_errors, label='Central Difference', marker='o', s=10)\n",
    "plt.xscale('log')\n",
    "plt.yscale('log')\n",
    "plt.xlabel('Step Size (h)')\n",
    "plt.ylabel('Absolute Error')\n",
    "plt.legend()\n",
    "plt.grid(True)\n",
    "plt.show()\n"
   ]
  },
  {
   "cell_type": "markdown",
   "id": "89024d89",
   "metadata": {},
   "source": [
    "We can see that we reach minimal error around 10^-6 for central difference and around 10^-8 using forward difference. This is caused by the by the float value rounding error and machine precision limit. Meaning the numbers and values subtracting each other start to cause anomalies in the output."
   ]
  },
  {
   "cell_type": "markdown",
   "id": "107e7372",
   "metadata": {},
   "source": [
    "# Exercise 3, Part II: FD with Classes"
   ]
  },
  {
   "cell_type": "markdown",
   "id": "c92ec4a1",
   "metadata": {},
   "source": []
  },
  {
   "cell_type": "code",
   "execution_count": 67,
   "id": "24d47c60",
   "metadata": {},
   "outputs": [
    {
     "data": {
      "image/png": "[encoded data removed]",
      "text/plain": [
       "<Figure size 1000x600 with 1 Axes>"
      ]
     },
     "metadata": {},
     "output_type": "display_data"
    }
   ],
   "source": [
    "import numpy as np\n",
    "import matplotlib.pyplot as plt\n",
    "\n",
    "class WavePacket:\n",
    "    \"\"\"\n",
    "    A class representation of a wave packet-function.\n",
    "    \"\"\"\n",
    "    def __init__(self, a, b):\n",
    "        self.a = a\n",
    "        self.b = b\n",
    "    \n",
    "    def __call__(self, x):\n",
    "        return np.sin(self.b*x) * np.exp(-self.a*x*x)\n",
    "    \n",
    "    def ForwardDiff(self, x, h):\n",
    "        return (self(x + h) - self(x)) / h\n",
    "\n",
    "    def CentralDiff(self, x, h):\n",
    "        return (self(x + h) - self(x - h)) / (2 * h)\n",
    "\n",
    "    def plot(self, x_min=-10, x_max=10, dx=0.01):\n",
    "        \"\"\"\n",
    "        A simple plotting routine for plotting f(x) in some range.\n",
    "        \"\"\"\n",
    "        x = np.arange(x_min, x_max, dx)\n",
    "        y = self(x)\n",
    "        fig = plt.figure()\n",
    "        plt.plot(x, y)\n",
    "        plt.grid()\n",
    "\n",
    "    def plotScatter(self, x_value):\n",
    "        # Point of interest\n",
    "        x = x_value\n",
    "\n",
    "        # Define the derivative function inside the plotScatter method\n",
    "        def Derivatedf(x, a, b, *args):\n",
    "            return b * np.cos(b * x) * np.exp(-a * x**2) - 2 * a * x * np.sin(b * x) * np.exp(-a * x**2)\n",
    "\n",
    "        # Range of step sizes (logarithmically spaced)\n",
    "        h_values = np.logspace(-16, 0, 100)\n",
    "\n",
    "        # Calculate the exact derivative at x = 1\n",
    "        exact_derivative = Derivatedf(x, self.a, self.b)\n",
    "\n",
    "        # Initialize arrays to store errors for both methods\n",
    "        forward_difference_errors = []\n",
    "        central_difference_errors = []\n",
    "\n",
    "        # Calculate errors for each step size\n",
    "        for h in h_values:\n",
    "            forward_diff = self.ForwardDiff(x, h)\n",
    "            central_diff = self.CentralDiff(x, h)\n",
    "            \n",
    "            # Calculate absolute errors\n",
    "            forward_diff_error = np.abs(forward_diff - exact_derivative)\n",
    "            central_diff_error = np.abs(central_diff - exact_derivative)\n",
    "            \n",
    "            forward_difference_errors.append(forward_diff_error)\n",
    "            central_difference_errors.append(central_diff_error)\n",
    "\n",
    "        # Create a scatter plot of errors vs. step size\n",
    "        plt.figure(figsize=(10, 6))\n",
    "        plt.scatter(h_values, forward_difference_errors, label='Forward Difference', marker='o', s=10)\n",
    "        plt.scatter(h_values, central_difference_errors, label='Central Difference', marker='o', s=10)\n",
    "        plt.xscale('log')\n",
    "        plt.yscale('log')\n",
    "        plt.xlabel('Step Size (h)')\n",
    "        plt.ylabel('Absolute Error')\n",
    "        plt.legend()\n",
    "        plt.grid(True)\n",
    "        plt.show()\n",
    "\n",
    "a_value = 0.1\n",
    "b_value = 10\n",
    "x_value = 1\n",
    "\n",
    "wave_packet = WavePacket(a_value, b_value)\n",
    "wave_packet.plotScatter(x_value)\n"
   ]
  },
  {
   "cell_type": "markdown",
   "id": "36b4cec5",
   "metadata": {},
   "source": [
    "# Excercise 5"
   ]
  },
  {
   "cell_type": "code",
   "execution_count": 130,
   "id": "67fd8fdf",
   "metadata": {},
   "outputs": [
    {
     "name": "stdout",
     "output_type": "stream",
     "text": [
      "[0.30000000000000004,6.4]\n",
      "[0.03333333333333333,0.6222222222222222]\n"
     ]
    },
    {
     "ename": "TypeError",
     "evalue": "'duple' object is not callable",
     "output_type": "error",
     "traceback": [
      "\u001b[0;31m---------------------------------------------------------------------------\u001b[0m",
      "\u001b[0;31mTypeError\u001b[0m                                 Traceback (most recent call last)",
      "Cell \u001b[0;32mIn[130], line 54\u001b[0m\n\u001b[1;32m     52\u001b[0m B\u001b[39m=\u001b[39mduple(b,\u001b[39m0\u001b[39m) \u001b[39m#second argument is default 0 i.e. a constant\u001b[39;00m\n\u001b[1;32m     53\u001b[0m X\u001b[39m=\u001b[39mduple(x,\u001b[39m1\u001b[39m)\n\u001b[0;32m---> 54\u001b[0m \u001b[39mprint\u001b[39m(\u001b[39m\"\u001b[39m\u001b[39mauto diff \u001b[39m\u001b[39m\"\u001b[39m, Sin(B\u001b[39m*\u001b[39mX)\u001b[39m*\u001b[39mExp(\u001b[39m-\u001b[39mA\u001b[39m*\u001b[39mX\u001b[39m*\u001b[39mX))\n\u001b[1;32m     55\u001b[0m \u001b[39mprint\u001b[39m(\u001b[39m\"\u001b[39m\u001b[39manalytical \u001b[39m\u001b[39m\"\u001b[39m, np\u001b[39m.\u001b[39msin(b\u001b[39m*\u001b[39mx)\u001b[39m*\u001b[39mnp\u001b[39m.\u001b[39mexp(\u001b[39m-\u001b[39ma\u001b[39m*\u001b[39mx\u001b[39m*\u001b[39mx),b\u001b[39m*\u001b[39mnp\u001b[39m.\u001b[39mcos(b\u001b[39m*\u001b[39mx)\u001b[39m*\u001b[39mnp\u001b[39m.\u001b[39mexp(\u001b[39m-\u001b[39ma\u001b[39m-\u001b[39m\u001b[39m2\u001b[39m\u001b[39m*\u001b[39ma\u001b[39m*\u001b[39mx\u001b[39m*\u001b[39mnp\u001b[39m.\u001b[39msin(b\u001b[39m*\u001b[39mx)\u001b[39m*\u001b[39mnp\u001b[39m.\u001b[39mexp(\u001b[39m-\u001b[39ma\u001b[39m*\u001b[39mx\u001b[39m*\u001b[39mx)))\n",
      "\u001b[0;31mTypeError\u001b[0m: 'duple' object is not callable"
     ]
    }
   ],
   "source": [
    "class duple:\n",
    "    \n",
    "    # Class for automatic differentiation\n",
    "    # top: function value\n",
    "    # bottom: derivative of function\n",
    "    \n",
    "    def __init__(self,top, bottom=0):\n",
    "        self.top = top\n",
    "        self.bottom = bottom\n",
    "    def __add__(self, d): # u+v, u’+v’\n",
    "        return duple(self.top + d.top, self.bottom + d.bottom )\n",
    "    # Part 1  \n",
    "    def __repr__(self):\n",
    "         return \"[\"+str(self.top)+\",\"+str(self.bottom)+\"]\"\n",
    "    def __str__(self):\n",
    "         return \"[\"+str(self.top)+\",\"+str(self.bottom)+\"]\"\n",
    "    # Part 2\n",
    "    # implement a neg operator for the class\n",
    "    def __neg__(self):\n",
    "        return duple(-self.top, -self.bottom)\n",
    "    # implement a pos operator for the class\n",
    "    def __pos__(self):\n",
    "        return duple(+self.top, +self.bottom)\n",
    "    # implement a sub operator for the class\n",
    "    def __sub__(self, d):\n",
    "        return duple(self.top - d.top, self.bottom - d.bottom)\n",
    "    # Part 3\n",
    "    # Implement the multiplication operator *\n",
    "    def __mul__(self, d):\n",
    "        \n",
    "        top_result = self.top * d.top\n",
    "        bottom_result = self.top  * d.bottom + self.bottom * d.top\n",
    "        return duple(top_result, bottom_result)\n",
    "    \n",
    "    # Implement the division operator /\n",
    "    def __truediv__(self, d):\n",
    "        if d.top == 0:\n",
    "            raise ValueError(\"Division by zero\")\n",
    "        top_result = self.top / d.top\n",
    "        bottom_result = (self.bottom * d.top - self.top * d.bottom) / (d.top * d.top)\n",
    "        return duple(top_result, bottom_result)\n",
    "x=duple(1,2)\n",
    "y=duple(3,4)\n",
    "# z=x+y\n",
    "# print(z.top, z.bottom)\n",
    "print(x*y)\n",
    "print(x/y)\n",
    "\n",
    "\n",
    "\n"
   ]
  },
  {
   "cell_type": "markdown",
   "id": "5a1f045f",
   "metadata": {},
   "source": [
    "The __str__() method returns a human-readable, or informal, string representation of an object. This method is called by the built-in print(), str(), and format() functions."
   ]
  },
  {
   "cell_type": "code",
   "execution_count": 116,
   "id": "54a6b32f",
   "metadata": {},
   "outputs": [
    {
     "name": "stdout",
     "output_type": "stream",
     "text": [
      "auto diff= [1.728,4.32]\n",
      "analytical= 1.728 4.319999999999999\n",
      "auto diff= [0.45454545454545453,-0.20661157024793386]\n",
      "analytical= 0.45454545454545453 -0.20661157024793386\n",
      "auto diff= [3.0944787419716917,4.297548854694511]\n",
      "analytical= 3.0944787419716917 4.297548854694511\n"
     ]
    }
   ],
   "source": [
    "x=1.2 # just for making it easy to use other values\n",
    "One=duple(1.,0.) # derivative of a constant is zero\n",
    "X=duple(x,1) # derivative of x with respect to x is 1\n",
    "print(\"auto diff=\",X*X*X)\n",
    "print(\"analytical=\",x*x*x, 3*x*x)\n",
    "print(\"auto diff=\", One/(One+X))\n",
    "print(\"analytical=\", 1/(1+x),-1/(1+x)**2)\n",
    "Exp=duple(np.exp(x),np.exp(x)) # derivative of exp(x) is exp(x)\n",
    "Sin=duple(np.sin(x),np.cos(x)) # derivative of sin(x) is cos(x)\n",
    "print(\"auto diff=\", Exp*Sin)\n",
    "print(\"analytical=\", np.exp(x)*np.sin(x), np.exp(x)*np.sin(x)+np.exp(x)*np.cos(x))\n"
   ]
  },
  {
   "cell_type": "markdown",
   "id": "2f772ddf",
   "metadata": {},
   "source": [
    "### Part 4 "
   ]
  },
  {
   "cell_type": "code",
   "execution_count": 125,
   "id": "a6c6096b",
   "metadata": {},
   "outputs": [
    {
     "name": "stdout",
     "output_type": "stream",
     "text": [
      "auto diff  [1.4632824673380311,0.7685247834990176]\n",
      "analytical  1.3132616875182228 0.7310585786300049\n"
     ]
    }
   ],
   "source": [
    "class dfunction:\n",
    "    def __init__(self, f, df):\n",
    "        self.f = f\n",
    "        self.df = df\n",
    "    \n",
    "    def __call__(self, d: duple):\n",
    "        # Apply the kernel rule (chain rule)\n",
    "        top_result = self.f(d.top)\n",
    "        bottom_result = self.df(d.top) * d.bottom  # Chain rule: f'(g(x)) * g'(x)\n",
    "        return duple(top_result, bottom_result)\n",
    "\n",
    "    def f(x):\n",
    "       return np.log(x)\n",
    "    def df(x):\n",
    "       return 1/x\n",
    "    Log=dfunction(f,df) #note no arguments to f - we are passing the function\n",
    "    Exp=dfunction(np.exp,np.exp) # same here\n",
    "    print(\"auto diff \", Log(One+Exp(X)))\n",
    "    print(\"analytical \", np.log(1+np.exp(x)),np.exp(x)/(1+np.exp(x)))\n",
    "    \n",
    "\n"
   ]
  },
  {
   "cell_type": "code",
   "execution_count": null,
   "id": "80782656",
   "metadata": {},
   "outputs": [],
   "source": []
  },
  {
   "cell_type": "markdown",
   "id": "7539d234",
   "metadata": {},
   "source": [
    "### Part 5 "
   ]
  },
  {
   "cell_type": "markdown",
   "id": "4bb739ad",
   "metadata": {},
   "source": [
    "Automatic differentiation is used in different fields to efficiently compute derivatives of functions. It is used in scientific simulations and computational modeling. Automatic differentiation helps optimizing and determine how small changes in input variables impact the function. It is used in physics and computational chemistry to solve complex equations. In machine learning it is used in deep neural networks to compute gradients in backpropagation.\n",
    "\n",
    "Automatic differentiation is very accurate and is often more computationally efficient than numerical differentiation. \n",
    "On the other hand automatic differentiation requires setting up a framework or special software libraries which numerical differentiation does not require. Automatic differentiation can generate complex expressions for derivatives but this might lead to slower computation and increased memory usage. "
   ]
  },
  {
   "cell_type": "markdown",
   "id": "c3aaf252",
   "metadata": {},
   "source": []
  }
 ],
 "metadata": {
  "kernelspec": {
   "display_name": "Python 3 (ipykernel)",
   "language": "python",
   "name": "python3"
  },
  "language_info": {
   "codemirror_mode": {
    "name": "ipython",
    "version": 3
   },
   "file_extension": ".py",
   "mimetype": "text/x-python",
   "name": "python",
   "nbconvert_exporter": "python",
   "pygments_lexer": "ipython3",
   "version": "3.9.13"
  }
 },
 "nbformat": 4,
 "nbformat_minor": 5
}
